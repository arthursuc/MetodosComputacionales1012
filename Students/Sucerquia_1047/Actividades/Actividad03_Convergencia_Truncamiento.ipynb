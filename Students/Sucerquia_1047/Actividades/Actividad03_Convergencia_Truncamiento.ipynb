{
  "nbformat": 4,
  "nbformat_minor": 0,
  "metadata": {
    "colab": {
      "provenance": [],
      "include_colab_link": true
    },
    "kernelspec": {
      "name": "python3",
      "display_name": "Python 3"
    },
    "language_info": {
      "name": "python"
    }
  },
  "cells": [
    {
      "cell_type": "markdown",
      "metadata": {
        "id": "view-in-github",
        "colab_type": "text"
      },
      "source": [
        "<a href=\"https://colab.research.google.com/github/arthursuc/MetodosComputacionales1012/blob/main/Students/Sucerquia_1047/Actividades/Actividad03_Convergencia_Truncamiento.ipynb\" target=\"_parent\"><img src=\"https://colab.research.google.com/assets/colab-badge.svg\" alt=\"Open In Colab\"/></a>"
      ]
    },
    {
      "cell_type": "code",
      "execution_count": null,
      "metadata": {
        "cellView": "form",
        "id": "6hd6GMVxBuCK"
      },
      "outputs": [],
      "source": [
        "#@title Librerias\n",
        "import numpy as np\n",
        "import matplotlib.pyplot as plt\n",
        "from math import factorial"
      ]
    },
    {
      "cell_type": "markdown",
      "source": [
        "# Actividad 03: Errores\n",
        "\n",
        "### Profesor: Juan Marcos Marín Ramírez\n",
        "#### Métodos Computacionales\n",
        "---"
      ],
      "metadata": {
        "id": "fsSmxGIyFaAm"
      }
    },
    {
      "cell_type": "markdown",
      "source": [
        "# 1\n",
        "La serie de Taylor para la función seno ($\\sin(x)$) centrada en $a=0$ (también conocida como la serie de Maclaurin) se expresa de la siguiente manera:\n",
        "\n",
        "> Añadir blockquote\n",
        "\n",
        "\n",
        "\n",
        "$$\\sin(x) = \\sum_{n=0}^{\\infty} \\frac{(-1)^n}{(2n+1)!} x^{2n+1} = x - \\frac{x^3}{3!} + \\frac{x^5}{5!} - \\frac{x^7}{7!} + \\cdots$$\n",
        "\n",
        "* Encontrar la aproximación para $x = \\pi/4$ cambiando el valor de tolerancia, ¿Qué puede concluir de la serie?\n",
        "* Hallar el error relativo y porcentual.\n",
        "* Grafique los valores asociados a la serie después de cada iteración.\n",
        "* Repita para la serie:\n",
        "$$\\ln(1+x) = \\sum_{n=1}^{\\infty} \\frac{(-1)^{n-1}}{n} x^n$$"
      ],
      "metadata": {
        "id": "_TuOsna5CRkd"
      }
    },
    {
      "cell_type": "code",
      "source": [
        "import math\n",
        "import matplotlib.pyplot as plt\n",
        "import numpy as np\n",
        "def sin(x,iteraciones,epsilon):\n",
        "  valor = 0\n",
        "  valor_real = math.sin(x)\n",
        "  i=0\n",
        "\n",
        "  while i < iteraciones:\n",
        "    n_esimo =(-1)**i/math.factorial(2*i+1)*x**(2*i+1)\n",
        "    valor+= n_esimo\n",
        "    if abs(n_esimo/valor) < epsilon:\n",
        "      break\n",
        "    i+=1\n",
        "  error_relativo = abs((valor_real-valor)/valor_real)\n",
        "  valor_porcentual = error_relativo*100\n",
        "  return valor, error_relativo, valor_porcentual\n",
        "pi,error,porcentual=sin(math.pi/4,100,1e-7)\n",
        "\n"
      ],
      "metadata": {
        "id": "3yx_wRlVC8_L"
      },
      "execution_count": 17,
      "outputs": []
    },
    {
      "cell_type": "code",
      "source": [],
      "metadata": {
        "id": "d3x78uHdIsPF",
        "outputId": "ece249fe-4b48-42b7-a5d0-59b9a689ebf5",
        "colab": {
          "base_uri": "https://localhost:8080/"
        }
      },
      "execution_count": 12,
      "outputs": [
        {
          "output_type": "execute_result",
          "data": {
            "text/plain": [
              "0.7071067811865475"
            ]
          },
          "metadata": {},
          "execution_count": 12
        }
      ]
    },
    {
      "cell_type": "markdown",
      "source": [
        "# 2\n",
        "\n",
        "La serie de Taylor para la función $(1+x)^\\alpha$, conocida como la **serie binomial**, centrada en $a=0$ está dada por:\n",
        "\n",
        "$$(1+x)^\\alpha = \\sum_{n=0}^{\\infty} \\binom{\\alpha}{n} x^n = 1 + \\alpha x + \\frac{\\alpha(\\alpha-1)}{2!} x^2 + \\frac{\\alpha(\\alpha-1)(\\alpha-2)}{3!} x^3 + \\cdots$$\n",
        "\n",
        "donde $\\binom{\\alpha}{n}$ es el coeficiente binomial generalizado.\n",
        "\n",
        "Considere el caso donde $\\alpha = 1/2$, lo que nos da la serie de Taylor para $\\sqrt{1+x}$:\n",
        "\n",
        "$$\\sqrt{1+x} = \\sum_{n=0}^{\\infty} \\binom{1/2}{n} x^n = 1 + \\frac{1}{2} x - \\frac{1}{8} x^2 + \\frac{1}{16} x^3 - \\frac{5}{128} x^4 + \\cdots$$\n",
        "\n",
        "a.  **Encontrar la aproximación para $x = 0.5$** cambiando el número de términos incluidos en la suma. ¿Qué puedes concluir sobre la convergencia de la serie para este valor de $x$?\n",
        "\n",
        "b.  **Hallar el error relativo y porcentual** para cada aproximación, utilizando el valor real de $\\sqrt{1+0.5} = \\sqrt{1.5} \\approx 1.224744871$.\n",
        "\n",
        "\n",
        "c.  **Grafique los valores asociados a la serie después de cada iteración.** Muestra cómo la serie se acerca al valor real a medida que se incluyen más términos.\n",
        "\n",
        "d. **Utilizando el criterio de tolerancia, evalue 6 a 7 valores diferentes**, y encuentre cuántos términos son necesarios para alcanzar dicha resolución. Realice un gráfico de la evolución del sistema.\n",
        "\n"
      ],
      "metadata": {
        "id": "NC_UMLqyEFfX"
      }
    },
    {
      "cell_type": "code",
      "source": [],
      "metadata": {
        "id": "X6TMDUt_E0UV"
      },
      "execution_count": null,
      "outputs": []
    }
  ]
}