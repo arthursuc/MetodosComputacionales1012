{
  "nbformat": 4,
  "nbformat_minor": 0,
  "metadata": {
    "colab": {
      "provenance": [],
      "include_colab_link": true
    },
    "kernelspec": {
      "name": "python3",
      "display_name": "Python 3"
    },
    "language_info": {
      "name": "python"
    }
  },
  "cells": [
    {
      "cell_type": "markdown",
      "metadata": {
        "id": "view-in-github",
        "colab_type": "text"
      },
      "source": [
        "<a href=\"https://colab.research.google.com/github/arthursuc/MetodosComputacionales1012/blob/main/Students/Sucerquia_1047/Actividades/Actividad04_Raices.ipynb\" target=\"_parent\"><img src=\"https://colab.research.google.com/assets/colab-badge.svg\" alt=\"Open In Colab\"/></a>"
      ]
    },
    {
      "cell_type": "code",
      "execution_count": 8,
      "metadata": {
        "id": "asgdp1RGxryX"
      },
      "outputs": [],
      "source": [
        "#@title Librerias\n",
        "import numpy as np\n",
        "import math\n",
        "import matplotlib.pyplot as plt"
      ]
    },
    {
      "cell_type": "markdown",
      "source": [
        "# Actividad 04: Raices y ecuaciones de una variable\n",
        "\n",
        "---\n",
        "### Profesor: Juan Marcos Marín Ramírez\n",
        "#### Métodos Computacionales 2025-1\n",
        "---"
      ],
      "metadata": {
        "id": "TrrVramGxvxE"
      }
    },
    {
      "cell_type": "markdown",
      "source": [
        "# 1\n",
        "\n",
        "El método de **Regula Falsi** es una modificación al método de Bisección. Con base en los siguientes pasos, escriba una función que calcule la raiz de una función. Pruebe con $x^2 - 4 = 0$, y examine la convergencia en función de la tolerancia.\n",
        "\n",
        "\n",
        "### Pasos\n",
        "\n",
        "1. **Inicialización**:\n",
        "   - Se parte de un intervalo $[a, b]$ donde $f(a)$ y $f(b)$ tienen signos opuestos.\n",
        "   - Esto garantiza que hay al menos una raíz en el intervalo (por el teorema del valor intermedio).\n",
        "\n",
        "2. **Cálculo del punto de intersección**:\n",
        "   - En lugar de tomar el punto medio como en la bisección, se calcula un punto c usando la siguiente fórmula:\n",
        "     \n",
        "     $$c = \\frac{a \\cdot f(b) - b \\cdot f(a)}{f(b) - f(a)}$$\n",
        "\n",
        "   - Esta fórmula representa la intersección de la línea que conecta los puntos $(a, f(a))$ y $(b, f(b))$ con el eje $x$.\n",
        "\n",
        "3. **Evaluación y actualización del intervalo**:\n",
        "   - Se evalúa $f(c)$.\n",
        "   - Si $f(c) = 0$ (o es menor que una tolerancia establecida), $c$ es la raíz buscada.\n",
        "   - Si $f(c)$ tiene el mismo signo que $f(a)$, se actualiza $a = c$.\n",
        "   - Si $f(c)$ tiene el mismo signo que $f(b)$, se actualiza $b = c$.\n",
        "\n",
        "4. **Iteración**:\n",
        "   - Se repiten los pasos 2 y 3 hasta que se cumpla un criterio de parada (por ejemplo, $|f(c)| < tolerancia$ o se alcance un número máximo de iteraciones)."
      ],
      "metadata": {
        "id": "G8Fxw6RJx4Dx"
      }
    },
    {
      "cell_type": "code",
      "source": [
        "#no hay mucho qué explicar, simplemente hice las modificaciones a la biseccion\n",
        "def regula(f,a,b,tol=1e-8,iteraciones=10000):\n",
        "  if f(a)*f(b) >=0:\n",
        "    raise ValueError(\"La funcion debe cambiar de signo en el intervalo\")\n",
        "  else:\n",
        "      i = 0\n",
        "      while i < iteraciones:\n",
        "       c = (a*f(b)-b*f(a))/(f(b)-f(a))\n",
        "       if f(c) == 0 or abs(f(c)) < tol:\n",
        "          break\n",
        "       if f(a)*f(c) > 0:\n",
        "         a = c\n",
        "       else:\n",
        "        b=c\n",
        "       i += 1\n",
        "       if i >= iteraciones:\n",
        "        raise ValueError(f\"No converge a la tolerancia deseada con {iteraciones} iteraciones\")\n",
        "  return c,i"
      ],
      "metadata": {
        "id": "TSUDindlvWQR"
      },
      "execution_count": 249,
      "outputs": []
    },
    {
      "cell_type": "code",
      "source": [
        "#aqui evalúo para asegurarme, y efectivamente fue lo deseado\n",
        "f = lambda x: x**2-4\n",
        "regula(f,0,3)"
      ],
      "metadata": {
        "colab": {
          "base_uri": "https://localhost:8080/"
        },
        "id": "dVlik6xrvYGA",
        "outputId": "aafba526-6429-4c58-8546-475798e71262"
      },
      "execution_count": 250,
      "outputs": [
        {
          "output_type": "execute_result",
          "data": {
            "text/plain": [
              "(1.9999999993446398, 13)"
            ]
          },
          "metadata": {},
          "execution_count": 250
        }
      ]
    },
    {
      "cell_type": "markdown",
      "source": [
        "# 2\n",
        "\n",
        "Una carga total $Q$ se distribuye uniformemente alrededor de un conductor en forma de anillo de radio $a$. Una carga $q$ se encuentra a una distancia $x$ horizontalmente a través del centro del anillo. La fuerza ejercida sobre la carga por el anillo está dada por:\n",
        "\n",
        "$$F = \\frac{1}{4\\piϵ_0}\\frac{qQx}{(x^2+a^2)^{3/2}}$$\n",
        "\n",
        "con $q$ y $Q$ de $2\\times 10^{-5}$C.\n",
        "\n",
        "  * Escriba una función donde ingresen los valores de $a$ y $x$ para hallar la fuerza.\n",
        "  * Haga un gráfico de $F(x)$ para un anillo de radio $a= 0.85$m para $0.1\\leq x\\leq 2.0$m\n",
        "  * Usando el método de Newton-Raphson y otro diferente, para encontrar el valor de $x$ en el cual la fuerza será equivalente a 1.25 N.\n",
        "  * Encuentre qué sucede si disminuimos el radio con respecto a la fuerza que experimentará la carga $q$."
      ],
      "metadata": {
        "id": "8lX5YHJOyZqr"
      }
    },
    {
      "cell_type": "code",
      "source": [
        "#funcion simple para hallar la fuerza puntual\n",
        "def fuerza(a,x):\n",
        "  q = 2e-5\n",
        "  Q = 2e-5\n",
        "  epsilon_0 = 8.85e-12\n",
        "  return 1/(4*np.pi*epsilon_0)*(q*Q)/(x**2+a**2)**(3/2)\n",
        "#Setup de la grafica\n",
        "intervalo= np.linspace(0.1,2.0,100)\n",
        "a = 0.85\n",
        "F = fuerza(a,intervalo)\n",
        "plt.plot(intervalo,F)\n",
        "plt.title(\"Fuerza en funcion de la distancia\")\n",
        "plt.xlabel(\"Valores de X\")\n",
        "plt.ylabel(\"Fuerza respectiva\")\n",
        "plt.show()"
      ],
      "metadata": {
        "id": "EUhHKtwwzWMa",
        "colab": {
          "base_uri": "https://localhost:8080/",
          "height": 472
        },
        "outputId": "086b1974-1185-4057-d5ca-a8da65236b60"
      },
      "execution_count": 32,
      "outputs": [
        {
          "output_type": "display_data",
          "data": {
            "text/plain": [
              "<Figure size 640x480 with 1 Axes>"
            ],
            "image/png": "[encoded data removed]"
          },
          "metadata": {}
        }
      ]
    },
    {
      "cell_type": "code",
      "source": [
        "#nada nuevo, simplemente el metodo de newton\n",
        "def newton(f,df,x0,tol=1e-8,iteraciones=1000):\n",
        "  if df(x0)==0:\n",
        "    raise ValueError(\"La derivada no puede ser cero\")\n",
        "  else:\n",
        "    i=0\n",
        "    while i < iteraciones:\n",
        "      x1 = x0 - (f(x0)/df(x0))\n",
        "      if abs(x1-x0) < tol:\n",
        "        break\n",
        "      x0 = x1\n",
        "      i += 1\n",
        "      if i >= iteraciones:\n",
        "        raise ValueError(f\"No converge a la tolerancia deseada con {iteraciones} iteraciones\")\n",
        "    return x0,i"
      ],
      "metadata": {
        "id": "FXzMa0zD38rn"
      },
      "execution_count": 227,
      "outputs": []
    },
    {
      "cell_type": "code",
      "source": [
        "#metodo secante\n",
        "def secante(f,x0,x1,tol=1e-8,iteraciones=10000):\n",
        "  i = 0\n",
        "  for k in range(iteraciones):\n",
        "    i += 1\n",
        "    x2 = x1 - (f(x1)*(x1-x0))/(f(x1)-f(x0))\n",
        "    if abs(x2-x1) < tol:\n",
        "      break\n",
        "    x0 = x1\n",
        "    x1 = x2\n",
        "    if i >= iteraciones:\n",
        "      raise ValueError(f\"No converge a la tolerancia deseada con {iteraciones} iteraciones\")\n",
        "  return x2,i\n",
        "#metodo biseccion\n",
        "def biseccion(f,a,b,tol=1e-12,iteraciones=10000):\n",
        "  if f(a)*f(b) >=0:\n",
        "    raise ValueError(\"La funcion debe cambiar de signo en el intervalo\")\n",
        "  else:\n",
        "      i = 0\n",
        "      while i < iteraciones:\n",
        "       c = (a+b)/2\n",
        "       if f(c) == 0 or abs(f(c)) < tol:\n",
        "          break\n",
        "       if f(a)*f(c) < 0:\n",
        "         b = c\n",
        "       else:\n",
        "        a=c\n",
        "       i += 1\n",
        "       if i >= iteraciones:\n",
        "        raise ValueError(f\"No converge a la tolerancia deseada con {iteraciones} iteraciones\")\n",
        "  return c,i"
      ],
      "metadata": {
        "id": "hTJGJlES44EB"
      },
      "execution_count": 241,
      "outputs": []
    },
    {
      "cell_type": "code",
      "source": [
        "#aqui declare las variables para mas comodidad\n",
        "epsilon_0 = 8.85e-12\n",
        "q = 2e-5\n",
        "Q = 2e-5\n",
        "a = 0.85\n",
        "#funcion \"igualada a cero\" para buscar la raiz planteada (es decir, en qué x la función da 1.25)\n",
        "f= lambda x: 1/(4*np.pi*epsilon_0)*(q*Q)/(x**2+a**2)**(3/2) - 1.25\n",
        "#derivada, tener en cuenta que la hice aparte. Quiero decir, utilizar la definicion numérica acababa con mis iteraciones sin converger\n",
        "df = lambda x: (q*Q/(4*np.pi*epsilon_0))*(a**2-2*x**2)/((x**2+a**2)**(5/2))\n",
        "\n",
        "x_raiz,iteraciones = newton(f,df,1)\n",
        "#evaluar\n",
        "print(f\"un X aproximado que satisface la ecuacion es {x_raiz}, puesto que al evaluarlo, obtenemos {fuerza(a,x_raiz)} con el metodo newton\")\n",
        "\n"
      ],
      "metadata": {
        "colab": {
          "base_uri": "https://localhost:8080/"
        },
        "id": "nw6KiSh549F2",
        "outputId": "5251d521-823f-46e0-93e5-466f495b0fe5"
      },
      "execution_count": 242,
      "outputs": [
        {
          "output_type": "stream",
          "name": "stdout",
          "text": [
            "un X aproximado que satisface la ecuacion es 1.1403987843441132, puesto que al evaluarlo, obtenemos 1.2499999901093286 con el metodo newton\n"
          ]
        }
      ]
    },
    {
      "cell_type": "code",
      "source": [
        "raiz_sec, iter_sec =secante(f,1,2)\n",
        "#evaluar\n",
        "print(f\"un X aproximado que satisface la ecuacion es {raiz_sec}, puesto que al evaluarlo, obtenemos {fuerza(a,raiz_sec)} con el metodo secante\")"
      ],
      "metadata": {
        "colab": {
          "base_uri": "https://localhost:8080/"
        },
        "id": "xwCCOR4f-zKn",
        "outputId": "4cb914d3-ad20-4291-bbe0-2a244c7f3142"
      },
      "execution_count": 243,
      "outputs": [
        {
          "output_type": "stream",
          "name": "stdout",
          "text": [
            "un X aproximado que satisface la ecuacion es 1.1403987796653008, puesto que al evaluarlo, obtenemos 1.2500000000000002 con el metodo secante\n"
          ]
        }
      ]
    },
    {
      "cell_type": "markdown",
      "source": [
        "# 3\n",
        "\n",
        "La velocidad ascendente $v$ de un cohete se puede calcular mediante\n",
        "$$v = u\\ln \\frac{m_0}{m_0 - qt} - gt$$\n",
        "\n",
        "donde $u$ es la velocidad a la que se expulsa el combustible, $m_0$ la masa inicial del cohete en $t = 0$, $q$ la razón de consumo del combustible y $g = 9.81$ m/s$^2$.\n",
        "\n",
        "* Escriba una función para $v$ con las variables asociadas.\n",
        "* Sea $m_0 = 1.6\\times 10^5$ kg, $u = 1800$ m/s y $q = 2600$ kg/s realice un grafico de $v(t)$ para $0\\leq t\\leq 100$ s.\n",
        "* Encuentre el valor de tiempo para el cual $v = 750$ m/s usando el método de Newton-Raphson, Bisección y el de Regula-Falsi\n",
        "* Varie los valores de $u$ (utilice por lo menos 20) y encuentre los tiempos para los cuales el cohete alcanzará la velocidad de 750 m/s. Qué conclusiones puede sacar?\n",
        "\n"
      ],
      "metadata": {
        "id": "rIR0hAWHzYgq"
      }
    },
    {
      "cell_type": "code",
      "source": [
        "#funcion de velocidad puntual\n",
        "def velocidad(u,m0,q,t):\n",
        "  g = 9.81\n",
        "  return u*np.log(m0/(m0-q*t))-g*t\n"
      ],
      "metadata": {
        "id": "Ucwxc8Y51oU9"
      },
      "execution_count": 244,
      "outputs": []
    },
    {
      "cell_type": "code",
      "source": [
        "#set up del grafico\n",
        "velocidades = np.array([])\n",
        "for i in range(0,100):\n",
        "  velocidades = np.append(velocidades, velocidad(1800,160000,2600,i))\n",
        "\n",
        "plt.plot(velocidades)\n",
        "plt.show()\n",
        "\n",
        "#nota importante\n",
        "\"\"\"Tengase en cuenta que el cohete en un cierto momento se queda sin combustible,\n",
        "por eso no llega hasta los 100 segundos la grafica. Analíticamente, es cuando\n",
        "el ln(x) comienza a tener x no positivos\"\"\"\n",
        "\n",
        "#declaro las variables otra vez aqui porque tengo déficit de atención KJakjsjkJKKA\n",
        "u,m0,q=1800,160000,2600\n",
        "#setup de la funcion \"igualada a cero\"--otra vez hice la derivada aparte\n",
        "f_cohete = lambda x: velocidad(1800,160000,2600,x) - 750\n",
        "df_cohete = lambda x: u*q/(m0-q*x) - 9.81\n",
        "\n",
        "\n",
        "#evaluar\n",
        "x_newton, newt_iteraciones = newton(f_cohete,df_cohete,50)\n",
        "print(f\"podemos ver que {x_newton} es el valor buscado, porque al evaluar da {velocidad(1800,160000,2600,x_newton)} con metodo newton\")\n",
        "\n",
        "x_biseccion,bisec_iteraciones = biseccion(f_cohete,5,50)\n",
        "print(f\"podemos ver que {x_biseccion} es el valor buscado, porque al evaluar da {velocidad(1800,160000,2600,x_biseccion)} con metodo biseccion\")\n",
        "\n",
        "x_regula,regula_iteraciones = regula(f_cohete,5,50)\n",
        "print(f\"podemos ver que {x_regula} es el valor buscado, porque al evaluar da {velocidad(1800,160000,2600,x_regula)} con metodo regula\")\n"
      ],
      "metadata": {
        "colab": {
          "base_uri": "https://localhost:8080/",
          "height": 519
        },
        "id": "vzCEvi2xK5W8",
        "outputId": "6aa20a3f-9254-498e-ff8c-9c8e7d756e09"
      },
      "execution_count": 248,
      "outputs": [
        {
          "output_type": "stream",
          "name": "stderr",
          "text": [
            "<ipython-input-244-4014290069>:3: RuntimeWarning: invalid value encountered in log\n",
            "  return u*np.log(m0/(m0-q*t))-g*t\n"
          ]
        },
        {
          "output_type": "display_data",
          "data": {
            "text/plain": [
              "<Figure size 640x480 with 1 Axes>"
            ],
            "image/png": "[encoded data removed]"
          },
          "metadata": {}
        },
        {
          "output_type": "stream",
          "name": "stdout",
          "text": [
            "podemos ver que 26.407847956622824 es el valor buscado, porque al evaluar da 750.0000000271676 con metodo newton\n",
            "podemos ver que 26.407847955967036 es el valor buscado, porque al evaluar da 749.9999999999998 con metodo biseccion\n",
            "podemos ver que 26.40784795581904 es el valor buscado, porque al evaluar da 749.9999999938689 con metodo regula\n"
          ]
        }
      ]
    },
    {
      "cell_type": "code",
      "source": [
        "#no, pues, un for para razonar el último punto\n",
        "\n",
        "us = np.array([])\n",
        "tiempos = np.array([])\n",
        "for i in range(1,21):\n",
        "  funcion_cohete = lambda x: velocidad(1800*i,160000,2600,x) - 750\n",
        "  derivada_cohete = lambda x: 1800*i*q/(m0-q*x) - 9.81\n",
        "  x_newton, newt_iteraciones = newton(funcion_cohete,derivada_cohete,50)\n",
        "  us = np.append(us,1800*i)\n",
        "  tiempos = np.append(tiempos,x_newton)\n",
        "plt.plot(us,tiempos)\n",
        "plt.show()\n",
        "\"\"\"se puede ver que, la velocidad a la cual se expulsa combustible (u),\n",
        "es inversamente proporcional al tiempo requerido para alcanzar la velocidad deseada,\n",
        "es decir, llegará más rápido\"\"\"\n",
        "\n",
        "#en el nombre del padre, del hijo, y del espíritu santo"
      ],
      "metadata": {
        "colab": {
          "base_uri": "https://localhost:8080/",
          "height": 430
        },
        "id": "BD2EAV1dLCRL",
        "outputId": "71ff261f-28e4-4767-9b34-6089fd76e0d4"
      },
      "execution_count": 251,
      "outputs": [
        {
          "output_type": "display_data",
          "data": {
            "text/plain": [
              "<Figure size 640x480 with 1 Axes>"
            ],
            "image/png": "[encoded data removed]"
          },
          "metadata": {}
        }
      ]
    },
    {
      "cell_type": "code",
      "source": [],
      "metadata": {
        "id": "S2Ke1Y-Ebnsj"
      },
      "execution_count": null,
      "outputs": []
    }
  ]
}